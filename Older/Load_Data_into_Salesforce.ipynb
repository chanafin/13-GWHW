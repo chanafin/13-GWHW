{
 "cells": [
  {
   "cell_type": "markdown",
   "metadata": {},
   "source": [
    "## Install `simple_salesforce`  module\n",
    "\n",
    "Remove the comment symbol (#) to run `!pip install simple_salesforce`. Once this module is installed, you can comment it out again. "
   ]
  },
  {
   "cell_type": "code",
   "execution_count": 1,
   "metadata": {},
   "outputs": [
    {
     "name": "stdout",
     "output_type": "stream",
     "text": [
      "Requirement already satisfied: simple_salesforce in c:\\users\\chris\\anaconda3\\lib\\site-packages (1.1.0)\n",
      "Requirement already satisfied: authlib in c:\\users\\chris\\anaconda3\\lib\\site-packages (from simple_salesforce) (0.14.3)\n",
      "Requirement already satisfied: requests>=2.22.0 in c:\\users\\chris\\anaconda3\\lib\\site-packages (from simple_salesforce) (2.22.0)\n",
      "Requirement already satisfied: cryptography in c:\\users\\chris\\anaconda3\\lib\\site-packages (from authlib->simple_salesforce) (2.7)\n",
      "Requirement already satisfied: idna<2.9,>=2.5 in c:\\users\\chris\\anaconda3\\lib\\site-packages (from requests>=2.22.0->simple_salesforce) (2.8)\n",
      "Requirement already satisfied: urllib3!=1.25.0,!=1.25.1,<1.26,>=1.21.1 in c:\\users\\chris\\anaconda3\\lib\\site-packages (from requests>=2.22.0->simple_salesforce) (1.24.2)\n",
      "Requirement already satisfied: chardet<3.1.0,>=3.0.2 in c:\\users\\chris\\anaconda3\\lib\\site-packages (from requests>=2.22.0->simple_salesforce) (3.0.4)\n",
      "Requirement already satisfied: certifi>=2017.4.17 in c:\\users\\chris\\anaconda3\\lib\\site-packages (from requests>=2.22.0->simple_salesforce) (2019.9.11)\n",
      "Requirement already satisfied: cffi!=1.11.3,>=1.8 in c:\\users\\chris\\anaconda3\\lib\\site-packages (from cryptography->authlib->simple_salesforce) (1.12.3)\n",
      "Requirement already satisfied: six>=1.4.1 in c:\\users\\chris\\anaconda3\\lib\\site-packages (from cryptography->authlib->simple_salesforce) (1.12.0)\n",
      "Requirement already satisfied: asn1crypto>=0.21.0 in c:\\users\\chris\\anaconda3\\lib\\site-packages (from cryptography->authlib->simple_salesforce) (1.0.1)\n",
      "Requirement already satisfied: pycparser in c:\\users\\chris\\anaconda3\\lib\\site-packages (from cffi!=1.11.3,>=1.8->cryptography->authlib->simple_salesforce) (2.19)\n"
     ]
    }
   ],
   "source": [
    "!pip install simple_salesforce"
   ]
  },
  {
   "cell_type": "markdown",
   "metadata": {},
   "source": [
    "## Import dependencies"
   ]
  },
  {
   "cell_type": "code",
   "execution_count": 2,
   "metadata": {},
   "outputs": [],
   "source": [
    "import json\n",
    "from sqlalchemy import create_engine\n",
    "import pandas as pd\n",
    "import pymysql\n",
    "pymysql.install_as_MySQLdb()"
   ]
  },
  {
   "cell_type": "markdown",
   "metadata": {},
   "source": [
    "## Import configuration variables"
   ]
  },
  {
   "cell_type": "code",
   "execution_count": 3,
   "metadata": {},
   "outputs": [],
   "source": [
    "# import sys\n",
    "# sys.path.append('../../../../')\n",
    "from config import sf_username, sf_password, sf_security_token\n",
    "from config import remote_db_endpoint, remote_db_port\n",
    "from config import remote_db_name, remote_db_user, remote_db_pwd"
   ]
  },
  {
   "cell_type": "markdown",
   "metadata": {},
   "source": [
    "## Set up `simple_salesforce`\n",
    "\n",
    "Pass in the username, password, and security token here. The security token contains information about your org."
   ]
  },
  {
   "cell_type": "code",
   "execution_count": 4,
   "metadata": {},
   "outputs": [],
   "source": [
    "from simple_salesforce import Salesforce\n",
    "sf = Salesforce(username=sf_username, password=sf_password, security_token=sf_security_token)"
   ]
  },
  {
   "cell_type": "markdown",
   "metadata": {},
   "source": [
    "## Connect to your MySQL database"
   ]
  },
  {
   "cell_type": "code",
   "execution_count": 5,
   "metadata": {},
   "outputs": [],
   "source": [
    "engine = create_engine(f\"mysql://{remote_db_user}:{remote_db_pwd}@{remote_db_endpoint}:{remote_db_port}/{remote_db_name}\")\n",
    "conn = engine.connect()"
   ]
  },
  {
   "cell_type": "markdown",
   "metadata": {},
   "source": [
    "## Query Data"
   ]
  },
  {
   "cell_type": "code",
   "execution_count": 6,
   "metadata": {},
   "outputs": [
    {
     "data": {
      "text/html": [
       "<div>\n",
       "<style scoped>\n",
       "    .dataframe tbody tr th:only-of-type {\n",
       "        vertical-align: middle;\n",
       "    }\n",
       "\n",
       "    .dataframe tbody tr th {\n",
       "        vertical-align: top;\n",
       "    }\n",
       "\n",
       "    .dataframe thead th {\n",
       "        text-align: right;\n",
       "    }\n",
       "</style>\n",
       "<table border=\"1\" class=\"dataframe\">\n",
       "  <thead>\n",
       "    <tr style=\"text-align: right;\">\n",
       "      <th></th>\n",
       "      <th>ID_Class</th>\n",
       "      <th>ID_Course</th>\n",
       "      <th>Section</th>\n",
       "      <th>StartDate</th>\n",
       "      <th>EndDate</th>\n",
       "    </tr>\n",
       "  </thead>\n",
       "  <tbody>\n",
       "    <tr>\n",
       "      <td>0</td>\n",
       "      <td>1</td>\n",
       "      <td>1</td>\n",
       "      <td>GWU-ARL-DATA-PT-09-0</td>\n",
       "      <td>2020-03-16</td>\n",
       "      <td>2020-03-14</td>\n",
       "    </tr>\n",
       "    <tr>\n",
       "      <td>1</td>\n",
       "      <td>2</td>\n",
       "      <td>1</td>\n",
       "      <td>GWDC201805DATA3</td>\n",
       "      <td>2018-05-15</td>\n",
       "      <td>2018-11-08</td>\n",
       "    </tr>\n",
       "    <tr>\n",
       "      <td>2</td>\n",
       "      <td>3</td>\n",
       "      <td>2</td>\n",
       "      <td>GWARL201905WEB3</td>\n",
       "      <td>2019-05-14</td>\n",
       "      <td>2019-11-07</td>\n",
       "    </tr>\n",
       "    <tr>\n",
       "      <td>3</td>\n",
       "      <td>4</td>\n",
       "      <td>3</td>\n",
       "      <td>GWARL201905UIUX3</td>\n",
       "      <td>2019-05-14</td>\n",
       "      <td>2019-11-07</td>\n",
       "    </tr>\n",
       "  </tbody>\n",
       "</table>\n",
       "</div>"
      ],
      "text/plain": [
       "   ID_Class  ID_Course               Section   StartDate     EndDate\n",
       "0         1          1  GWU-ARL-DATA-PT-09-0  2020-03-16  2020-03-14\n",
       "1         2          1       GWDC201805DATA3  2018-05-15  2018-11-08\n",
       "2         3          2       GWARL201905WEB3  2019-05-14  2019-11-07\n",
       "3         4          3      GWARL201905UIUX3  2019-05-14  2019-11-07"
      ]
     },
     "execution_count": 6,
     "metadata": {},
     "output_type": "execute_result"
    }
   ],
   "source": [
    "#course_data = pd.read_sql(\"SELECT * FROM course\", conn)\n",
    "#course_data.head(30)\n",
    "##\n",
    "class_data = pd.read_sql(\"SELECT * FROM class\", conn)\n",
    "class_data.head(30)\n",
    "##\n",
    "#classparticipant_data = pd.read_sql(\"SELECT * FROM classparticipant\", conn)\n",
    "#classparticipant_data.head(30)\n",
    "##\n",
    "#student_data = pd.read_sql(\"SELECT * FROM student\", conn)\n",
    "#course_data.head(30)\n",
    "##\n",
    "#staff_data = pd.read_sql(\"SELECT * FROM staff\", conn)\n",
    "#course_data.head(30)\n",
    "##\n",
    "#staffassignment_data = pd.read_sql(\"SELECT * FROM staffassignment\", conn)\n",
    "#staffassignment_data.head(30)"
   ]
  },
  {
   "cell_type": "markdown",
   "metadata": {},
   "source": [
    "## Transform Data"
   ]
  },
  {
   "cell_type": "code",
   "execution_count": 6,
   "metadata": {},
   "outputs": [
    {
     "data": {
      "text/html": [
       "<div>\n",
       "<style scoped>\n",
       "    .dataframe tbody tr th:only-of-type {\n",
       "        vertical-align: middle;\n",
       "    }\n",
       "\n",
       "    .dataframe tbody tr th {\n",
       "        vertical-align: top;\n",
       "    }\n",
       "\n",
       "    .dataframe thead th {\n",
       "        text-align: right;\n",
       "    }\n",
       "</style>\n",
       "<table border=\"1\" class=\"dataframe\">\n",
       "  <thead>\n",
       "    <tr style=\"text-align: right;\">\n",
       "      <th></th>\n",
       "      <th>Course_ID__c</th>\n",
       "      <th>Course_Code__c</th>\n",
       "      <th>Name</th>\n",
       "      <th>Credit_Hours__c</th>\n",
       "      <th>Boot_Camp_Course__c</th>\n",
       "    </tr>\n",
       "  </thead>\n",
       "  <tbody>\n",
       "    <tr>\n",
       "      <td>0</td>\n",
       "      <td>1</td>\n",
       "      <td>BC-DATAVIZ</td>\n",
       "      <td>Data Visualization and Analytics</td>\n",
       "      <td>12</td>\n",
       "      <td>1</td>\n",
       "    </tr>\n",
       "    <tr>\n",
       "      <td>1</td>\n",
       "      <td>2</td>\n",
       "      <td>BC-WEBDEV</td>\n",
       "      <td>Full Stack Web Development</td>\n",
       "      <td>12</td>\n",
       "      <td>1</td>\n",
       "    </tr>\n",
       "    <tr>\n",
       "      <td>2</td>\n",
       "      <td>3</td>\n",
       "      <td>BC-UIUX</td>\n",
       "      <td>User Interface/User Experience</td>\n",
       "      <td>12</td>\n",
       "      <td>1</td>\n",
       "    </tr>\n",
       "    <tr>\n",
       "      <td>3</td>\n",
       "      <td>4</td>\n",
       "      <td>CIS-349</td>\n",
       "      <td>Introduction to Databases</td>\n",
       "      <td>5</td>\n",
       "      <td>0</td>\n",
       "    </tr>\n",
       "    <tr>\n",
       "      <td>4</td>\n",
       "      <td>5</td>\n",
       "      <td>CIS-405</td>\n",
       "      <td>Database Programming</td>\n",
       "      <td>5</td>\n",
       "      <td>0</td>\n",
       "    </tr>\n",
       "    <tr>\n",
       "      <td>5</td>\n",
       "      <td>6</td>\n",
       "      <td>CIS-438</td>\n",
       "      <td>Database Administration</td>\n",
       "      <td>5</td>\n",
       "      <td>0</td>\n",
       "    </tr>\n",
       "    <tr>\n",
       "      <td>6</td>\n",
       "      <td>7</td>\n",
       "      <td>CIS-430</td>\n",
       "      <td>Business Systems Programming I</td>\n",
       "      <td>5</td>\n",
       "      <td>0</td>\n",
       "    </tr>\n",
       "    <tr>\n",
       "      <td>7</td>\n",
       "      <td>8</td>\n",
       "      <td>CIS-435</td>\n",
       "      <td>Business Systems Programming II</td>\n",
       "      <td>5</td>\n",
       "      <td>0</td>\n",
       "    </tr>\n",
       "  </tbody>\n",
       "</table>\n",
       "</div>"
      ],
      "text/plain": [
       "   Course_ID__c Course_Code__c                              Name  \\\n",
       "0             1     BC-DATAVIZ  Data Visualization and Analytics   \n",
       "1             2      BC-WEBDEV        Full Stack Web Development   \n",
       "2             3        BC-UIUX    User Interface/User Experience   \n",
       "3             4        CIS-349         Introduction to Databases   \n",
       "4             5        CIS-405              Database Programming   \n",
       "5             6        CIS-438           Database Administration   \n",
       "6             7        CIS-430    Business Systems Programming I   \n",
       "7             8        CIS-435   Business Systems Programming II   \n",
       "\n",
       "   Credit_Hours__c  Boot_Camp_Course__c  \n",
       "0               12                    1  \n",
       "1               12                    1  \n",
       "2               12                    1  \n",
       "3                5                    0  \n",
       "4                5                    0  \n",
       "5                5                    0  \n",
       "6                5                    0  \n",
       "7                5                    0  "
      ]
     },
     "execution_count": 6,
     "metadata": {},
     "output_type": "execute_result"
    }
   ],
   "source": [
    "#student_data['FullName'] = student_data['FirstName'].str.cat(student_data['LastName'], sep=\" \")\n",
    "#student_data['Company'] = 'Dartling University'\n",
    "######\n",
    "course_data = course_data.rename(columns={'ID_Course':'Course_ID__c','CourseCode':'Course_Code__c','CourseName':'Name','CreditHours':'Credit_Hours__c','BootCampCourse':'Boot_Camp_Course__c',  })\n",
    "course_data\n",
    "##\n",
    "class_data = class_data.rename(columns= {})\n",
    "#student_load_df = student_data[['LastName','FirstName','Company']]\n"
   ]
  },
  {
   "cell_type": "markdown",
   "metadata": {},
   "source": [
    "## Convert DataFrame to a list of dictionaries \n",
    "\n",
    "This can help facilitate a bulk insert"
   ]
  },
  {
   "cell_type": "code",
   "execution_count": 8,
   "metadata": {},
   "outputs": [
    {
     "data": {
      "text/plain": [
       "[{'Course_ID__c': 1,\n",
       "  'Course_Code__c': 'BC-DATAVIZ',\n",
       "  'Name': 'Data Visualization and Analytics',\n",
       "  'Credit_Hours__c': 12,\n",
       "  'Boot_Camp_Course__c': 1},\n",
       " {'Course_ID__c': 2,\n",
       "  'Course_Code__c': 'BC-WEBDEV',\n",
       "  'Name': 'Full Stack Web Development',\n",
       "  'Credit_Hours__c': 12,\n",
       "  'Boot_Camp_Course__c': 1},\n",
       " {'Course_ID__c': 3,\n",
       "  'Course_Code__c': 'BC-UIUX',\n",
       "  'Name': 'User Interface/User Experience',\n",
       "  'Credit_Hours__c': 12,\n",
       "  'Boot_Camp_Course__c': 1},\n",
       " {'Course_ID__c': 4,\n",
       "  'Course_Code__c': 'CIS-349',\n",
       "  'Name': 'Introduction to Databases',\n",
       "  'Credit_Hours__c': 5,\n",
       "  'Boot_Camp_Course__c': 0},\n",
       " {'Course_ID__c': 5,\n",
       "  'Course_Code__c': 'CIS-405',\n",
       "  'Name': 'Database Programming',\n",
       "  'Credit_Hours__c': 5,\n",
       "  'Boot_Camp_Course__c': 0},\n",
       " {'Course_ID__c': 6,\n",
       "  'Course_Code__c': 'CIS-438',\n",
       "  'Name': 'Database Administration',\n",
       "  'Credit_Hours__c': 5,\n",
       "  'Boot_Camp_Course__c': 0},\n",
       " {'Course_ID__c': 7,\n",
       "  'Course_Code__c': 'CIS-430',\n",
       "  'Name': 'Business Systems Programming I',\n",
       "  'Credit_Hours__c': 5,\n",
       "  'Boot_Camp_Course__c': 0},\n",
       " {'Course_ID__c': 8,\n",
       "  'Course_Code__c': 'CIS-435',\n",
       "  'Name': 'Business Systems Programming II',\n",
       "  'Credit_Hours__c': 5,\n",
       "  'Boot_Camp_Course__c': 0}]"
      ]
     },
     "execution_count": 8,
     "metadata": {},
     "output_type": "execute_result"
    }
   ],
   "source": [
    "course_load = course_data.to_dict('records')\n",
    "course_load"
   ]
  },
  {
   "cell_type": "markdown",
   "metadata": {},
   "source": [
    "## Example of inserting rows individually\n",
    "\n",
    "Loop through the DataFrame and assemble indiviudal dictionaries"
   ]
  },
  {
   "cell_type": "code",
   "execution_count": null,
   "metadata": {},
   "outputs": [],
   "source": [
    "#for index, row in course_load.iterrows():\n",
    "#record = {\n",
    "   #    'Course_ID__c': 'Course_ID__c'\n",
    " \n",
    " #  }\n",
    "    \n",
    "#try:\n",
    " #  sf.Course__c.create(record)\n",
    "#except Exception as e:\n",
    "    print(e)"
   ]
  },
  {
   "cell_type": "markdown",
   "metadata": {},
   "source": [
    "## Example of inserting rows in bulk"
   ]
  },
  {
   "cell_type": "code",
   "execution_count": 9,
   "metadata": {},
   "outputs": [],
   "source": [
    "try:\n",
    "    sf.bulk.Course__c.insert(course_load)\n",
    "except Exception as e:\n",
    "    print(e)"
   ]
  },
  {
   "cell_type": "code",
   "execution_count": null,
   "metadata": {},
   "outputs": [],
   "source": []
  }
 ],
 "metadata": {
  "kernelspec": {
   "display_name": "Python 3",
   "language": "python",
   "name": "python3"
  },
  "language_info": {
   "codemirror_mode": {
    "name": "ipython",
    "version": 3
   },
   "file_extension": ".py",
   "mimetype": "text/x-python",
   "name": "python",
   "nbconvert_exporter": "python",
   "pygments_lexer": "ipython3",
   "version": "3.7.4"
  }
 },
 "nbformat": 4,
 "nbformat_minor": 2
}
