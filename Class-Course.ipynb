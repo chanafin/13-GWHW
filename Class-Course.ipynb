{
 "cells": [
  {
   "cell_type": "code",
   "execution_count": null,
   "metadata": {},
   "outputs": [],
   "source": [
    "import json\n",
    "from sqlalchemy import create_engine\n",
    "from datetime import date\n",
    "import pandas as pd\n",
    "import pymysql\n",
    "pymysql.install_as_MySQLdb()"
   ]
  },
  {
   "cell_type": "code",
   "execution_count": null,
   "metadata": {},
   "outputs": [],
   "source": [
    "from config import sf_username, sf_password, sf_security_token\n",
    "from config import remote_db_endpoint, remote_db_port\n",
    "from config import remote_db_name, remote_db_user, remote_db_pwd"
   ]
  },
  {
   "cell_type": "code",
   "execution_count": null,
   "metadata": {},
   "outputs": [],
   "source": [
    "from simple_salesforce import Salesforce\n",
    "sf = Salesforce(username=sf_username, password=sf_password, security_token=sf_security_token)"
   ]
  },
  {
   "cell_type": "code",
   "execution_count": null,
   "metadata": {},
   "outputs": [],
   "source": [
    "engine = create_engine(f\"mysql://{remote_db_user}:{remote_db_pwd}@{remote_db_endpoint}:{remote_db_port}/{remote_db_name}\")\n",
    "conn = engine.connect()"
   ]
  },
  {
   "cell_type": "code",
   "execution_count": null,
   "metadata": {},
   "outputs": [],
   "source": [
    "#COURSE\n",
    "course_data_df = pd.read_sql(\"SELECT * FROM course\", conn)\n",
    "course_data_df.head(30)"
   ]
  },
  {
   "cell_type": "code",
   "execution_count": null,
   "metadata": {},
   "outputs": [],
   "source": [
    "course_data_records = course_data_df.to_dict('records')\n",
    "course_data_records"
   ]
  },
  {
   "cell_type": "code",
   "execution_count": null,
   "metadata": {},
   "outputs": [],
   "source": [
    "for rec in course_data_records:\n",
    "\n",
    "    record = {\n",
    "        'ID_Course__c': rec['ID_Course'],\n",
    "        'CourseCode__c': rec['CourseCode'],\n",
    "        'CourseName__c': rec['CourseName'],\n",
    "        'CreditHours__c': rec['CreditHours'],\n",
    "        'BootCampCourse__c': rec['BootCampCourse'],\n",
    "    }\n",
    "    \n",
    "    try:\n",
    "        sf.Course__C.create(record)\n",
    "    except Exception as e:\n",
    "        print(e)"
   ]
  },
  {
   "cell_type": "code",
   "execution_count": null,
   "metadata": {},
   "outputs": [],
   "source": [
    "course_lookup_list = []\n",
    "data = sf.query_all_iter(\"SELECT ID_Course__c, CourseName__c, Name FROM Course__c\")\n",
    "for row in data:\n",
    "    rec = {\n",
    "        'ID_Course': row['ID_Course__c'],\n",
    "        'CourseName': row['CourseName__c'],\n",
    "        'CourseSF': row['Name']\n",
    "    }\n",
    "    course_lookup_list.append(rec)"
   ]
  },
  {
   "cell_type": "code",
   "execution_count": null,
   "metadata": {},
   "outputs": [],
   "source": [
    "course_lookup_df = pd.DataFrame(course_lookup_list)\n",
    "course_lookup_df"
   ]
  },
  {
   "cell_type": "code",
   "execution_count": null,
   "metadata": {},
   "outputs": [],
   "source": [
    "#CLASS\n",
    "query = '''\n",
    "    SELECT\n",
    "        c.*\n",
    "        \n",
    "    FROM\n",
    "        class c\n",
    "        \n",
    "'''\n",
    "class_data_df = pd.read_sql(query, conn)\n",
    "class_data_df.head()"
   ]
  },
  {
   "cell_type": "code",
   "execution_count": null,
   "metadata": {},
   "outputs": [],
   "source": [
    "class_data_df = pd.merge(class_data_df, course_lookup_df, how='left')\n",
    "class_data_df.head()"
   ]
  },
  {
   "cell_type": "code",
   "execution_count": null,
   "metadata": {},
   "outputs": [],
   "source": [
    "class_data_df['StartDate'] = pd.to_datetime(class_data_df['StartDate']).dt.date\n",
    "class_data_df['EndDate'] = pd.to_datetime(class_data_df['EndDate']).dt.date\n",
    "class_data_df.head()"
   ]
  },
  {
   "cell_type": "code",
   "execution_count": null,
   "metadata": {},
   "outputs": [],
   "source": [
    "for index, row in class_data_df.iterrows():\n",
    "        record = {\n",
    "        'ID_Class__c': row['ID_Class'],\n",
    "        'ID_Course__c' : row['ID_Course'],\n",
    "        'Section__c': row['Section'],\n",
    "        'StartDate__c': str(row['StartDate']),\n",
    "        'EndDate__c': str(row['EndDate']),\n",
    "        'Course_Name__c': row['CourseSF']\n",
    "    }\n",
    "    \n",
    "        try:\n",
    "            sf.Class__c.create(record)\n",
    "        except Exception as e:\n",
    "            print(e)"
   ]
  },
  {
   "cell_type": "code",
   "execution_count": null,
   "metadata": {},
   "outputs": [],
   "source": [
    "#delete\n",
    "#class_records = sf.query(\"SELECT Id FROM Staff__c\")\n",
    "#recs_to_delete = [{'Id': r['Id']} for r in class_records['records']]\n",
    "#recs_to_delete"
   ]
  },
  {
   "cell_type": "code",
   "execution_count": null,
   "metadata": {},
   "outputs": [],
   "source": [
    "#delete \n",
    "#sf.bulk.Staff__c.delete(recs_to_delete)"
   ]
  },
  {
   "cell_type": "code",
   "execution_count": null,
   "metadata": {},
   "outputs": [],
   "source": []
  }
 ],
 "metadata": {
  "kernelspec": {
   "display_name": "Python 3",
   "language": "python",
   "name": "python3"
  },
  "language_info": {
   "codemirror_mode": {
    "name": "ipython",
    "version": 3
   },
   "file_extension": ".py",
   "mimetype": "text/x-python",
   "name": "python",
   "nbconvert_exporter": "python",
   "pygments_lexer": "ipython3",
   "version": "3.7.4"
  }
 },
 "nbformat": 4,
 "nbformat_minor": 2
}
